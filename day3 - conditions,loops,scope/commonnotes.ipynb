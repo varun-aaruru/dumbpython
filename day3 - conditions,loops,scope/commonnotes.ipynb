{
 "cells": [
  {
   "cell_type": "code",
   "execution_count": 1,
   "metadata": {},
   "outputs": [
    {
     "name": "stdout",
     "output_type": "stream",
     "text": [
      "Welcome to the rollercoaster!\n",
      "its not for kids!!\n"
     ]
    }
   ],
   "source": [
    "print(\"Welcome to the rollercoaster!\")\n",
    "height = int(input(\"What is your height in cm? \"))\n",
    "if height>120:\n",
    "    print(\"can ride!\")\n",
    "else:\n",
    "    print(\"its not for kids!!\")"
   ]
  },
  {
   "cell_type": "code",
   "execution_count": 2,
   "metadata": {},
   "outputs": [
    {
     "name": "stdout",
     "output_type": "stream",
     "text": [
      "Welcome to the rollercoaster!\n",
      "can ride!\n",
      "Ticket cost is 4$\n"
     ]
    }
   ],
   "source": [
    "print(\"Welcome to the rollercoaster!\")\n",
    "height = int(input(\"What is your height in cm? \"))\n",
    "if height>120:\n",
    "    print(\"You can ride!\")\n",
    "    age = int(input(\"Enter age: \"))\n",
    "    if age>18:\n",
    "        print(\"Ticket cost is 10$\")\n",
    "    elif (age<18 and age>12):\n",
    "        print(\"Ticke cost is 7$\")\n",
    "    elif (age<12):\n",
    "        print(\"Ticket cost is 4$\")\n",
    "else:\n",
    "    print(\"its not for kids!!\")"
   ]
  }
 ],
 "metadata": {
  "interpreter": {
   "hash": "ad2bdc8ecc057115af97d19610ffacc2b4e99fae6737bb82f5d7fb13d2f2c186"
  },
  "kernelspec": {
   "display_name": "Python 3.9.12 ('base')",
   "language": "python",
   "name": "python3"
  },
  "language_info": {
   "codemirror_mode": {
    "name": "ipython",
    "version": 3
   },
   "file_extension": ".py",
   "mimetype": "text/x-python",
   "name": "python",
   "nbconvert_exporter": "python",
   "pygments_lexer": "ipython3",
   "version": "3.9.12"
  },
  "orig_nbformat": 4
 },
 "nbformat": 4,
 "nbformat_minor": 2
}
